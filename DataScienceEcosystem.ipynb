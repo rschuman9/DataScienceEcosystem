{
 "cells": [
  {
   "cell_type": "markdown",
   "id": "b0735dee",
   "metadata": {},
   "source": [
    "# Data Science Tools and Ecosystem"
   ]
  },
  {
   "cell_type": "markdown",
   "id": "9ba84633",
   "metadata": {},
   "source": [
    "## Author\n",
    "Renell Schuman"
   ]
  },
  {
   "cell_type": "markdown",
   "id": "a5138f37",
   "metadata": {},
   "source": [
    "In this notebook we will summarize Data Science Tools and Ecosystems."
   ]
  },
  {
   "cell_type": "markdown",
   "id": "78a17b2d",
   "metadata": {},
   "source": [
    "**Objectives**\n",
    "\n",
    "* List popular languages for Data Science\n",
    "* List popular libraries used by Data Scientists\n",
    "* List popular open source tools used in Data Science\n",
    "* Perform basic arithmetic"
   ]
  },
  {
   "cell_type": "markdown",
   "id": "b6560da9",
   "metadata": {},
   "source": [
    "Popular languages that are used by Data Scientists are:\n",
    "\n",
    "1. Python\n",
    "2. R\n",
    "3. Java\n",
    "4. C++\n",
    "5. SQL\n",
    "6. Julia"
   ]
  },
  {
   "cell_type": "markdown",
   "id": "7c26080d",
   "metadata": {},
   "source": [
    "Popular libraries that are used by Data Scientists are:\n",
    "\n",
    "1. Pandas\n",
    "2. Matplotlib\n",
    "3. NumPy\n",
    "4. Seaborn\n",
    "5. Plotly\n",
    "6. SciPy"
   ]
  },
  {
   "cell_type": "markdown",
   "id": "6c3844d6",
   "metadata": {},
   "source": [
    "Popular open source tools used in data science are listed in the table below."
   ]
  },
  {
   "cell_type": "markdown",
   "id": "294eaa5f",
   "metadata": {},
   "source": [
    "| Data Science Tools |\n",
    "| ------------------ |\n",
    "| Python |\n",
    "| Jupyter Notebook |\n",
    "| RStudio |"
   ]
  },
  {
   "cell_type": "markdown",
   "id": "a93edaa8",
   "metadata": {},
   "source": [
    "### We will now explore evaluating arithmetic expressions in Python. Below we will cover a few examples."
   ]
  },
  {
   "cell_type": "code",
   "execution_count": 5,
   "id": "89bfe402",
   "metadata": {},
   "outputs": [
    {
     "data": {
      "text/plain": [
       "17"
      ]
     },
     "execution_count": 5,
     "metadata": {},
     "output_type": "execute_result"
    }
   ],
   "source": [
    "# evaluate basic arithmetic to mulitply two integers then add an interger\n",
    "\n",
    "(3*4)+5"
   ]
  },
  {
   "cell_type": "code",
   "execution_count": 18,
   "id": "a2c1074d",
   "metadata": {},
   "outputs": [
    {
     "name": "stdout",
     "output_type": "stream",
     "text": [
      "200 minutes converted to hours is 3.3333333333333335 hours.\n"
     ]
    }
   ],
   "source": [
    "# create a basic code to convert minutes to hours\n",
    "\n",
    "minutes= 200\n",
    "hours= minutes/60\n",
    "print(f\"200 minutes converted to hours is {hours} hours.\")"
   ]
  },
  {
   "cell_type": "code",
   "execution_count": null,
   "id": "2fd68160",
   "metadata": {},
   "outputs": [],
   "source": []
  },
  {
   "cell_type": "code",
   "execution_count": null,
   "id": "41530e70",
   "metadata": {},
   "outputs": [],
   "source": []
  }
 ],
 "metadata": {
  "kernelspec": {
   "display_name": "Python 3 (ipykernel)",
   "language": "python",
   "name": "python3"
  },
  "language_info": {
   "codemirror_mode": {
    "name": "ipython",
    "version": 3
   },
   "file_extension": ".py",
   "mimetype": "text/x-python",
   "name": "python",
   "nbconvert_exporter": "python",
   "pygments_lexer": "ipython3",
   "version": "3.11.7"
  }
 },
 "nbformat": 4,
 "nbformat_minor": 5
}
